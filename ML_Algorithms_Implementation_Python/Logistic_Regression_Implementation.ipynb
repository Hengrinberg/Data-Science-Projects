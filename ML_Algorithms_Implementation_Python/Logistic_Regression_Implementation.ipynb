{
 "cells": [
  {
   "cell_type": "markdown",
   "metadata": {},
   "source": [
    "# The Task"
   ]
  },
  {
   "cell_type": "markdown",
   "metadata": {},
   "source": [
    "The task is to build a classification model that estimates an applicant’s probability of admission to the university\n",
    "based on scores of from two exams. "
   ]
  },
  {
   "cell_type": "code",
   "execution_count": 1,
   "metadata": {},
   "outputs": [
    {
     "name": "stderr",
     "output_type": "stream",
     "text": [
      "c:\\python27\\lib\\site-packages\\sklearn\\cross_validation.py:44: DeprecationWarning: This module was deprecated in version 0.18 in favor of the model_selection module into which all the refactored classes and functions are moved. Also note that the interface of the new CV iterators are different from that of this module. This module will be removed in 0.20.\n",
      "  \"This module will be removed in 0.20.\", DeprecationWarning)\n"
     ]
    }
   ],
   "source": [
    "import numpy as np # linear algebra\n",
    "import pandas as pd # data processing, CSV file I/O (e.g. pd.read_csv)\n",
    "#Plots\n",
    "import matplotlib.pyplot as plt\n",
    "from sklearn.cross_validation import train_test_split\n",
    "#Advanced optimization\n",
    "from scipy import optimize as op\n"
   ]
  },
  {
   "cell_type": "markdown",
   "metadata": {},
   "source": [
    "# Data\n"
   ]
  },
  {
   "cell_type": "code",
   "execution_count": 2,
   "metadata": {},
   "outputs": [
    {
     "data": {
      "text/html": [
       "<div>\n",
       "<style>\n",
       "    .dataframe thead tr:only-child th {\n",
       "        text-align: right;\n",
       "    }\n",
       "\n",
       "    .dataframe thead th {\n",
       "        text-align: left;\n",
       "    }\n",
       "\n",
       "    .dataframe tbody tr th {\n",
       "        vertical-align: top;\n",
       "    }\n",
       "</style>\n",
       "<table border=\"1\" class=\"dataframe\">\n",
       "  <thead>\n",
       "    <tr style=\"text-align: right;\">\n",
       "      <th></th>\n",
       "      <th>exam_1_score</th>\n",
       "      <th>exam_2_score</th>\n",
       "      <th>admission</th>\n",
       "    </tr>\n",
       "  </thead>\n",
       "  <tbody>\n",
       "    <tr>\n",
       "      <th>0</th>\n",
       "      <td>34.623660</td>\n",
       "      <td>78.024693</td>\n",
       "      <td>0</td>\n",
       "    </tr>\n",
       "    <tr>\n",
       "      <th>1</th>\n",
       "      <td>30.286711</td>\n",
       "      <td>43.894998</td>\n",
       "      <td>0</td>\n",
       "    </tr>\n",
       "    <tr>\n",
       "      <th>2</th>\n",
       "      <td>35.847409</td>\n",
       "      <td>72.902198</td>\n",
       "      <td>0</td>\n",
       "    </tr>\n",
       "    <tr>\n",
       "      <th>3</th>\n",
       "      <td>60.182599</td>\n",
       "      <td>86.308552</td>\n",
       "      <td>1</td>\n",
       "    </tr>\n",
       "    <tr>\n",
       "      <th>4</th>\n",
       "      <td>79.032736</td>\n",
       "      <td>75.344376</td>\n",
       "      <td>1</td>\n",
       "    </tr>\n",
       "    <tr>\n",
       "      <th>5</th>\n",
       "      <td>45.083277</td>\n",
       "      <td>56.316372</td>\n",
       "      <td>0</td>\n",
       "    </tr>\n",
       "    <tr>\n",
       "      <th>6</th>\n",
       "      <td>61.106665</td>\n",
       "      <td>96.511426</td>\n",
       "      <td>1</td>\n",
       "    </tr>\n",
       "    <tr>\n",
       "      <th>7</th>\n",
       "      <td>75.024746</td>\n",
       "      <td>46.554014</td>\n",
       "      <td>1</td>\n",
       "    </tr>\n",
       "    <tr>\n",
       "      <th>8</th>\n",
       "      <td>76.098787</td>\n",
       "      <td>87.420570</td>\n",
       "      <td>1</td>\n",
       "    </tr>\n",
       "    <tr>\n",
       "      <th>9</th>\n",
       "      <td>84.432820</td>\n",
       "      <td>43.533393</td>\n",
       "      <td>1</td>\n",
       "    </tr>\n",
       "    <tr>\n",
       "      <th>10</th>\n",
       "      <td>95.861555</td>\n",
       "      <td>38.225278</td>\n",
       "      <td>0</td>\n",
       "    </tr>\n",
       "    <tr>\n",
       "      <th>11</th>\n",
       "      <td>75.013658</td>\n",
       "      <td>30.603263</td>\n",
       "      <td>0</td>\n",
       "    </tr>\n",
       "    <tr>\n",
       "      <th>12</th>\n",
       "      <td>82.307053</td>\n",
       "      <td>76.481963</td>\n",
       "      <td>1</td>\n",
       "    </tr>\n",
       "    <tr>\n",
       "      <th>13</th>\n",
       "      <td>69.364589</td>\n",
       "      <td>97.718692</td>\n",
       "      <td>1</td>\n",
       "    </tr>\n",
       "    <tr>\n",
       "      <th>14</th>\n",
       "      <td>39.538339</td>\n",
       "      <td>76.036811</td>\n",
       "      <td>0</td>\n",
       "    </tr>\n",
       "    <tr>\n",
       "      <th>15</th>\n",
       "      <td>53.971052</td>\n",
       "      <td>89.207350</td>\n",
       "      <td>1</td>\n",
       "    </tr>\n",
       "    <tr>\n",
       "      <th>16</th>\n",
       "      <td>69.070144</td>\n",
       "      <td>52.740470</td>\n",
       "      <td>1</td>\n",
       "    </tr>\n",
       "    <tr>\n",
       "      <th>17</th>\n",
       "      <td>67.946855</td>\n",
       "      <td>46.678574</td>\n",
       "      <td>0</td>\n",
       "    </tr>\n",
       "    <tr>\n",
       "      <th>18</th>\n",
       "      <td>70.661510</td>\n",
       "      <td>92.927138</td>\n",
       "      <td>1</td>\n",
       "    </tr>\n",
       "    <tr>\n",
       "      <th>19</th>\n",
       "      <td>76.978784</td>\n",
       "      <td>47.575964</td>\n",
       "      <td>1</td>\n",
       "    </tr>\n",
       "  </tbody>\n",
       "</table>\n",
       "</div>"
      ],
      "text/plain": [
       "    exam_1_score  exam_2_score  admission\n",
       "0      34.623660     78.024693          0\n",
       "1      30.286711     43.894998          0\n",
       "2      35.847409     72.902198          0\n",
       "3      60.182599     86.308552          1\n",
       "4      79.032736     75.344376          1\n",
       "5      45.083277     56.316372          0\n",
       "6      61.106665     96.511426          1\n",
       "7      75.024746     46.554014          1\n",
       "8      76.098787     87.420570          1\n",
       "9      84.432820     43.533393          1\n",
       "10     95.861555     38.225278          0\n",
       "11     75.013658     30.603263          0\n",
       "12     82.307053     76.481963          1\n",
       "13     69.364589     97.718692          1\n",
       "14     39.538339     76.036811          0\n",
       "15     53.971052     89.207350          1\n",
       "16     69.070144     52.740470          1\n",
       "17     67.946855     46.678574          0\n",
       "18     70.661510     92.927138          1\n",
       "19     76.978784     47.575964          1"
      ]
     },
     "execution_count": 2,
     "metadata": {},
     "output_type": "execute_result"
    }
   ],
   "source": [
    "#read the data\n",
    "data = pd.read_excel(\"C:\\Users\\Home Premium\\Desktop\\machine-learning-ex2\\ex2\\data_file_1.xlsx\")\n",
    "data.head(20)"
   ]
  },
  {
   "cell_type": "markdown",
   "metadata": {},
   "source": [
    "# Plot_Data Function"
   ]
  },
  {
   "cell_type": "code",
   "execution_count": 3,
   "metadata": {},
   "outputs": [
    {
     "data": {
      "image/png": "[encoded data removed]",
      "text/plain": [
       "<matplotlib.figure.Figure at 0x8901ff0>"
      ]
     },
     "metadata": {},
     "output_type": "display_data"
    }
   ],
   "source": [
    "import matplotlib.pyplot as plt\n",
    "\n",
    "\n",
    "#function that plot the data\n",
    "def plot_data(data):\n",
    "    colors = [\"red\", \"green\"] # list of colors depend on label\n",
    "    Not_Admitted = plt.scatter(data[data['admission'] == 0].iloc[:,0],\n",
    "                           data[data['admission'] == 0].iloc[:,1]\n",
    "                           ,color = colors[0],s=60) # data of the students that not admitted\n",
    "    \n",
    "    Admitted = plt.scatter(data[data['admission'] == 1].iloc[:,0],\n",
    "                        data[data['admission'] == 1].iloc[:,1],color = colors[1],s=60) # data of the students that admitted\n",
    "    \n",
    "    plt.axis([0, 100, 0, 100]) #  the range of values for x and y axis\n",
    "    plt.legend((Not_Admitted, Admitted),('Not_Admitted' , 'Admitted'), scatterpoints=1, loc='lower right', ncol=1, fontsize=20)\n",
    "    # describe the meaning of each data point\n",
    "    plt.xlabel('exam_1_score', fontsize=18) # gives name for x axis\n",
    "    plt.ylabel('exam_2_score', fontsize=18) # gives name for y axis\n",
    "    plt.rcParams[\"figure.figsize\"] = 10,10 # define the size of the graph\n",
    "    plt.show()\n",
    "    \n",
    "plot_data(data)\n",
    "                   "
   ]
  },
  {
   "cell_type": "markdown",
   "metadata": {},
   "source": [
    "# Data Setup"
   ]
  },
  {
   "cell_type": "code",
   "execution_count": 4,
   "metadata": {},
   "outputs": [],
   "source": [
    "# add a ones column - this makes the matrix multiplication work out easier\n",
    "data.insert(0,'ones',1) # add column called \"ones\"  in position 0 with all 1 values\n",
    "\n",
    "# set x(training data) and y (target variable)\n",
    "columns = data.shape[1]\n",
    "x = data.iloc[:, 0:columns -1]\n",
    "y = data.iloc[:, columns -1: columns]\n",
    "\n",
    "# convert the numpy arrays and initalize he parameter array theta\n",
    "x = np.array(x.values)\n",
    "y = np.array(y.values)\n",
    "theta = np.zeros(3)"
   ]
  },
  {
   "cell_type": "markdown",
   "metadata": {},
   "source": [
    "# Split the Date to Train and Test"
   ]
  },
  {
   "cell_type": "code",
   "execution_count": 5,
   "metadata": {},
   "outputs": [],
   "source": [
    "x_train , x_test, y_train , y_test = train_test_split(x , y, test_size = 0.25 , random_state = 1)"
   ]
  },
  {
   "cell_type": "markdown",
   "metadata": {},
   "source": [
    "# Sigmoid Function"
   ]
  },
  {
   "cell_type": "code",
   "execution_count": 6,
   "metadata": {},
   "outputs": [],
   "source": [
    "# sigmoid function - function that return probability between 0 and 1\n",
    "# x is a linear line from the type: y = a + bx\n",
    "\n",
    "def sigmoid(z):\n",
    "    return 1 / (1 + np.exp(-z))\n",
    "\n",
    "#For large positive values of x, the sigmoid should be close to 1, while for large \n",
    "#negative values, the sigmoid should be close to 0. Evaluating sigmoid(0) should give you exactly 0.5.\n"
   ]
  },
  {
   "cell_type": "markdown",
   "metadata": {},
   "source": [
    "# Regularized Cost Function"
   ]
  },
  {
   "cell_type": "code",
   "execution_count": 7,
   "metadata": {},
   "outputs": [],
   "source": [
    "def RegCostFunction(theta,x,y,lambda_ = 0.01):\n",
    "    theta = np.matrix(theta)\n",
    "    y = np.matrix(y)\n",
    "    x = np.matrix(x)\n",
    "    m = len(y) # number of training examples\n",
    "    first_part = np.multiply(-y, np.log(sigmoid(x * theta.T))) # calculate the first part of the cost function\n",
    "    second_part = np.multiply((1-y), np.log(1 - sigmoid(x * theta.T)))\n",
    "    regularization = ((lambda_/(2*m)) * np.sum(np.square(theta)))\n",
    "    return (np.sum(first_part - second_part) / (m)) + regularization # vectorized implementation"
   ]
  },
  {
   "cell_type": "code",
   "execution_count": 8,
   "metadata": {},
   "outputs": [
    {
     "data": {
      "text/plain": [
       "((100, 3), (3,), (100, 1), array([ 0.,  0.,  0.]))"
      ]
     },
     "execution_count": 8,
     "metadata": {},
     "output_type": "execute_result"
    }
   ],
   "source": [
    "x.shape, theta.shape, y.shape, theta"
   ]
  },
  {
   "cell_type": "markdown",
   "metadata": {},
   "source": [
    "# Regularized Gradient Function"
   ]
  },
  {
   "cell_type": "code",
   "execution_count": 9,
   "metadata": {},
   "outputs": [],
   "source": [
    "def RegGradienFunc(theta, x, y,lambda_ = 0.01):\n",
    "    theta = np.matrix(theta)\n",
    "    x = np.matrix(x)\n",
    "    y = np.matrix(y)\n",
    "    m = len(y) # number of training examples\n",
    "    parameters = theta.shape[1] # take the number of parameters (theta i till n)\n",
    "    gradient = np.zeros(parameters) # create a vector of 0 with length equal to the number of theta's(parameters)\n",
    "    \n",
    "    error = sigmoid(x * theta.T) - y # return a vector with length x\n",
    "    for i in range(parameters):\n",
    "        regularization = ((lambda_ * theta[0,i]) / (m)) # theta[0,i] returns float type while theta[:,i] returns matrix type \n",
    "        gradient[i] = (np.sum(np.multiply(error, x[:,i])) / (m)) + regularization  # returns single float value\n",
    "    return gradient"
   ]
  },
  {
   "cell_type": "markdown",
   "metadata": {},
   "source": [
    "# Optimal theta values"
   ]
  },
  {
   "cell_type": "code",
   "execution_count": 10,
   "metadata": {},
   "outputs": [],
   "source": [
    "result = op.fmin_tnc(func = RegCostFunction , x0 = theta, fprime = RegGradienFunc, args = (x_train,y_train))\n",
    "# func is the function that i want to minimize\n",
    "# fprime is the Gradient of func\n",
    "optimal_theta_values = result[0]"
   ]
  },
  {
   "cell_type": "markdown",
   "metadata": {},
   "source": [
    "# Predict Function"
   ]
  },
  {
   "cell_type": "code",
   "execution_count": 11,
   "metadata": {},
   "outputs": [],
   "source": [
    "def predict(theta ,x):\n",
    "    theta = np.matrix(theta) # I transform theta into matrix in order to enable theta.T operation (np.array doesn't support this operation)\n",
    "    probability = sigmoid(x * theta.T)\n",
    "    predictions_res = [1 if x > 0.5 else 0 for x in probability]\n",
    "    return predictions_res\n"
   ]
  },
  {
   "cell_type": "code",
   "execution_count": 12,
   "metadata": {},
   "outputs": [],
   "source": [
    "predictions = predict(optimal_theta_values, x_test)  \n",
    "correct = [1 if ((a == 1 and b == 1) or (a == 0 and b == 0)) else 0 for (a, b) in zip(predictions, y_test)]  "
   ]
  },
  {
   "cell_type": "markdown",
   "metadata": {},
   "source": [
    "# Test Accuacy"
   ]
  },
  {
   "cell_type": "code",
   "execution_count": 13,
   "metadata": {},
   "outputs": [
    {
     "name": "stdout",
     "output_type": "stream",
     "text": [
      "accuracy = 88.0%\n"
     ]
    }
   ],
   "source": [
    "accuracy = (sum(correct) / float(len(correct))) * 100  \n",
    "print 'accuracy = {0}%'.format(accuracy) "
   ]
  }
 ],
 "metadata": {
  "kernelspec": {
   "display_name": "Python 2",
   "language": "python",
   "name": "python2"
  },
  "language_info": {
   "codemirror_mode": {
    "name": "ipython",
    "version": 2
   },
   "file_extension": ".py",
   "mimetype": "text/x-python",
   "name": "python",
   "nbconvert_exporter": "python",
   "pygments_lexer": "ipython2",
   "version": "2.7.13"
  }
 },
 "nbformat": 4,
 "nbformat_minor": 2
}
